{
 "cells": [
  {
   "cell_type": "code",
   "execution_count": 11,
   "metadata": {},
   "outputs": [
    {
     "name": "stdout",
     "output_type": "stream",
     "text": [
      "Enter the input string:\n",
      "011000101\n",
      "String is NOT ACCEPTED in the given DFA\n"
     ]
    }
   ],
   "source": [
    "f = open(\"/Users/sakshiborah/Desktop/DFA.txt\",\"r\")\n",
    "#here it reads the input part by part and builds our alphabetic and states and initial state and final states\n",
    "Alphabetics = f.readline()\n",
    "alphabetics = Alphabetics.rstrip('\\n').split(' ')\n",
    "States = f.readline()\n",
    "states = States.rstrip('\\n').split(' ')\n",
    "starting_state = f.readline().rstrip('\\n')\n",
    "Final_states = f.readline()\n",
    "final_states = Final_states.rstrip('\\n').split(' ')\n",
    "#here it reads vertices line b line and store them\n",
    "lines = []\n",
    "for x in f:\n",
    "    lines.append(x.rstrip('\\n'))\n",
    "#for each state there is a class object which saves the state name as 'current'\n",
    "#and saves the 'next_states' of that state with given input from our alphabet\n",
    "class State:\n",
    "    def __init__(self,current):\n",
    "        self.current = current\n",
    "        self.next_states = {}\n",
    "        return\n",
    "    def add_line(self,x,y):\n",
    "        self.next_states.update({x:y})\n",
    "#here it creates an object for each state according to their name and stores the objects into an array\n",
    "states_classes = []\n",
    "for s in states:\n",
    "    s = State(s)\n",
    "    states_classes.append(s)\n",
    "#here it reads line array and create next states for each state and the given alphabetic as input\n",
    "for i in lines:\n",
    "    i = i.rstrip('\\n')\n",
    "    x = i.split(' ')\n",
    "    for s in states_classes:\n",
    "        if s.current == x[0]:\n",
    "            s.add_line(x[1],x[2])\n",
    "#you can see the states and their next states with the commented code bellow\n",
    "#for s in states_classes:\n",
    "#    print(s.current,s.next_states)\n",
    "\n",
    "#this function change the state according to the input and return the next state (further information is given in report file)\n",
    "def state_checker(state,input):\n",
    "    for i in states_classes:\n",
    "        if i.current == state.current :\n",
    "            tmp_state = i.next_states.get(input)\n",
    "            for s in states_classes:\n",
    "                if s.current == tmp_state:\n",
    "                    return s\n",
    "#this boolean checks if all of the input string is in the dfa's alphabetic or not\n",
    "string_in_alphabet = True\n",
    "#this function takes string and iterate over that string letter by letter\n",
    "# finally returns the last state that the string goes on\n",
    "def DFA_Check(string,state):\n",
    "    for z in string:\n",
    "        if string in alphabetics:\n",
    "            state = state_checker(state,z)\n",
    "        else: string_in_alphabet = False\n",
    "    return state\n",
    "#this function finds the initial state between our states in state class\n",
    "def find_start(state_classes):\n",
    "    for s in states_classes:\n",
    "        if s.current == starting_state:\n",
    "            return s\n",
    "#now the program is ready to take input\n",
    "inp_string = input('Enter the input string:\\n')\n",
    "state = DFA_Check(inp_string, find_start(states_classes))\n",
    "\n",
    "if state.current in final_states and string_in_alphabet is True:\n",
    "    print('String is ACCEPTED in the given DFA')\n",
    "else:\n",
    "    print('String is NOT ACCEPTED in the given DFA')"
   ]
  },
  {
   "cell_type": "code",
   "execution_count": null,
   "metadata": {},
   "outputs": [],
   "source": []
  },
  {
   "cell_type": "code",
   "execution_count": null,
   "metadata": {},
   "outputs": [],
   "source": []
  }
 ],
 "metadata": {
  "kernelspec": {
   "display_name": "Python 3",
   "language": "python",
   "name": "python3"
  },
  "language_info": {
   "codemirror_mode": {
    "name": "ipython",
    "version": 3
   },
   "file_extension": ".py",
   "mimetype": "text/x-python",
   "name": "python",
   "nbconvert_exporter": "python",
   "pygments_lexer": "ipython3",
   "version": "3.7.3"
  }
 },
 "nbformat": 4,
 "nbformat_minor": 2
}
